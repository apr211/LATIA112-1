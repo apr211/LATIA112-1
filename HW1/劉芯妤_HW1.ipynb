{
 "cells": [
  {
   "cell_type": "code",
   "execution_count": 7,
   "metadata": {},
   "outputs": [
    {
     "name": "stderr",
     "output_type": "stream",
     "text": [
      "  % Total    % Received % Xferd  Average Speed   Time    Time     Time  Current\n",
      "                                 Dload  Upload   Total   Spent    Left  Speed\n",
      "\n",
      "  0     0    0     0    0     0      0      0 --:--:-- --:--:-- --:--:--     0\n",
      " 15  103k   15 16080    0     0  31518      0  0:00:03 --:--:--  0:00:03 31529\n",
      "100  103k  100  103k    0     0   165k      0 --:--:-- --:--:-- --:--:--  165k\n"
     ]
    },
    {
     "data": {
      "text/plain": [
       "0"
      ]
     },
     "execution_count": 7,
     "metadata": {},
     "output_type": "execute_result"
    }
   ],
   "source": [
    "!curl https://afterschool.moe.gov.tw/public/file/opendata.csv -o 全國立案兒童課後照顧服務中心基本資料.csv\n",
    "\n",
    "import pandas as pd\n",
    "import matplotlib.pyplot as plt\n",
    "\n",
    "plt.rc('font', family='Microsoft JhengHei') # 讓 plt 可以顯示中文\n",
    "\n",
    "df = pd.read_csv('全國立案兒童課後照顧服務中心基本資料.csv', encoding='utf-8') # 讀取資料集檔案\n",
    "df.isnull().sum().sum() # 檢查空值數量"
   ]
  },
  {
   "cell_type": "code",
   "execution_count": 8,
   "metadata": {},
   "outputs": [
    {
     "data": {
      "text/html": [
       "<div>\n",
       "<style scoped>\n",
       "    .dataframe tbody tr th:only-of-type {\n",
       "        vertical-align: middle;\n",
       "    }\n",
       "\n",
       "    .dataframe tbody tr th {\n",
       "        vertical-align: top;\n",
       "    }\n",
       "\n",
       "    .dataframe thead th {\n",
       "        text-align: right;\n",
       "    }\n",
       "</style>\n",
       "<table border=\"1\" class=\"dataframe\">\n",
       "  <thead>\n",
       "    <tr style=\"text-align: right;\">\n",
       "      <th></th>\n",
       "      <th>縣市</th>\n",
       "      <th>名稱</th>\n",
       "      <th>電話</th>\n",
       "      <th>地址</th>\n",
       "      <th>立案時間</th>\n",
       "    </tr>\n",
       "  </thead>\n",
       "  <tbody>\n",
       "    <tr>\n",
       "      <th>0</th>\n",
       "      <td>臺北市</td>\n",
       "      <td>臺北市私立高階兒童課後照顧服務中心</td>\n",
       "      <td>(02)2395-5709</td>\n",
       "      <td>臺北市中正區濟南路2段62巷10號1樓</td>\n",
       "      <td>102/08/12</td>\n",
       "    </tr>\n",
       "    <tr>\n",
       "      <th>1</th>\n",
       "      <td>臺北市</td>\n",
       "      <td>臺北市私立吉而斯兒童課後照顧服務中心</td>\n",
       "      <td>(02)2594-0930、2595-4411</td>\n",
       "      <td>臺北市大同區酒泉街135號2樓</td>\n",
       "      <td>101/12/13</td>\n",
       "    </tr>\n",
       "    <tr>\n",
       "      <th>2</th>\n",
       "      <td>臺北市</td>\n",
       "      <td>臺北市私立青青兒童課後照顧服務中心</td>\n",
       "      <td>(02)2553-9333</td>\n",
       "      <td>臺北市大同區民權西路160巷28號2樓</td>\n",
       "      <td>102/08/19</td>\n",
       "    </tr>\n",
       "    <tr>\n",
       "      <th>3</th>\n",
       "      <td>臺北市</td>\n",
       "      <td>臺北市私立阿凡橋兒童課後照顧服務中心</td>\n",
       "      <td>(02)2592-6840</td>\n",
       "      <td>臺北市大同區重慶北路3段257巷5號1、2樓</td>\n",
       "      <td>102/10/31</td>\n",
       "    </tr>\n",
       "    <tr>\n",
       "      <th>4</th>\n",
       "      <td>臺北市</td>\n",
       "      <td>臺北市私立海格斯兒童課後照顧服務中心</td>\n",
       "      <td>(02)2553-5198、2666-5573</td>\n",
       "      <td>臺北市大同區延平北路2段278號3樓之1</td>\n",
       "      <td>102/12/10</td>\n",
       "    </tr>\n",
       "    <tr>\n",
       "      <th>...</th>\n",
       "      <td>...</td>\n",
       "      <td>...</td>\n",
       "      <td>...</td>\n",
       "      <td>...</td>\n",
       "      <td>...</td>\n",
       "    </tr>\n",
       "    <tr>\n",
       "      <th>781</th>\n",
       "      <td>屏東縣</td>\n",
       "      <td>屏東縣私立佳園兒童課後照顧服務中心</td>\n",
       "      <td>(08)-</td>\n",
       "      <td>屏東縣屏東市崇蘭里廣東路1440號1-3樓</td>\n",
       "      <td>111/05/31</td>\n",
       "    </tr>\n",
       "    <tr>\n",
       "      <th>782</th>\n",
       "      <td>屏東縣</td>\n",
       "      <td>屏東縣私立銨芯兒童課後照顧服務中心</td>\n",
       "      <td>(08)707-6706</td>\n",
       "      <td>屏東縣萬丹鄉社中村社皮路3段276號1、2、3樓</td>\n",
       "      <td>107/08/02</td>\n",
       "    </tr>\n",
       "    <tr>\n",
       "      <th>783</th>\n",
       "      <td>屏東縣</td>\n",
       "      <td>私立世大兒童課後照顧服務中心</td>\n",
       "      <td>(08)833-6441</td>\n",
       "      <td>屏東縣東港鎮興東里新興三街62號1樓</td>\n",
       "      <td>108/02/14</td>\n",
       "    </tr>\n",
       "    <tr>\n",
       "      <th>784</th>\n",
       "      <td>屏東縣</td>\n",
       "      <td>私立加資兒童課後照顧服務中心</td>\n",
       "      <td>(08)835-5321</td>\n",
       "      <td>屏東縣新園鄉鹽埔村聖心路138號</td>\n",
       "      <td>102/10/11</td>\n",
       "    </tr>\n",
       "    <tr>\n",
       "      <th>785</th>\n",
       "      <td>臺東縣</td>\n",
       "      <td>臺東縣私立小強生兒童課後照顧服務中心</td>\n",
       "      <td>(089)233189</td>\n",
       "      <td>臺東市新社三街10巷23號</td>\n",
       "      <td>103/01/15</td>\n",
       "    </tr>\n",
       "  </tbody>\n",
       "</table>\n",
       "<p>786 rows × 5 columns</p>\n",
       "</div>"
      ],
      "text/plain": [
       "      縣市                  名稱                       電話  \\\n",
       "0    臺北市   臺北市私立高階兒童課後照顧服務中心            (02)2395-5709   \n",
       "1    臺北市  臺北市私立吉而斯兒童課後照顧服務中心  (02)2594-0930、2595-4411   \n",
       "2    臺北市   臺北市私立青青兒童課後照顧服務中心            (02)2553-9333   \n",
       "3    臺北市  臺北市私立阿凡橋兒童課後照顧服務中心            (02)2592-6840   \n",
       "4    臺北市  臺北市私立海格斯兒童課後照顧服務中心  (02)2553-5198、2666-5573   \n",
       "..   ...                 ...                      ...   \n",
       "781  屏東縣   屏東縣私立佳園兒童課後照顧服務中心                    (08)-   \n",
       "782  屏東縣   屏東縣私立銨芯兒童課後照顧服務中心             (08)707-6706   \n",
       "783  屏東縣      私立世大兒童課後照顧服務中心             (08)833-6441   \n",
       "784  屏東縣      私立加資兒童課後照顧服務中心             (08)835-5321   \n",
       "785  臺東縣  臺東縣私立小強生兒童課後照顧服務中心              (089)233189   \n",
       "\n",
       "                           地址       立案時間  \n",
       "0         臺北市中正區濟南路2段62巷10號1樓  102/08/12  \n",
       "1             臺北市大同區酒泉街135號2樓  101/12/13  \n",
       "2         臺北市大同區民權西路160巷28號2樓  102/08/19  \n",
       "3      臺北市大同區重慶北路3段257巷5號1、2樓  102/10/31  \n",
       "4        臺北市大同區延平北路2段278號3樓之1  102/12/10  \n",
       "..                        ...        ...  \n",
       "781     屏東縣屏東市崇蘭里廣東路1440號1-3樓  111/05/31  \n",
       "782  屏東縣萬丹鄉社中村社皮路3段276號1、2、3樓  107/08/02  \n",
       "783        屏東縣東港鎮興東里新興三街62號1樓  108/02/14  \n",
       "784          屏東縣新園鄉鹽埔村聖心路138號  102/10/11  \n",
       "785             臺東市新社三街10巷23號  103/01/15  \n",
       "\n",
       "[786 rows x 5 columns]"
      ]
     },
     "execution_count": 8,
     "metadata": {},
     "output_type": "execute_result"
    }
   ],
   "source": [
    "df"
   ]
  },
  {
   "cell_type": "markdown",
   "metadata": {},
   "source": [
    "# 1.本資料在105年以前收集了多少兒童課後照顧服務中心\n",
    "(分成105年前後)"
   ]
  },
  {
   "cell_type": "code",
   "execution_count": 9,
   "metadata": {},
   "outputs": [
    {
     "name": "stdout",
     "output_type": "stream",
     "text": [
      "在105年以前，共有590間兒童課後照顧服務中心\n"
     ]
    }
   ],
   "source": [
    "before_105 = 0\n",
    "for index, row in df.iterrows():\n",
    "    if int(row['立案時間'].split('/')[0]) < 105:\n",
    "        before_105 += 1\n",
    "\n",
    "print(f\"在105年以前，共有{before_105}間兒童課後照顧服務中心\")\n"
   ]
  },
  {
   "cell_type": "markdown",
   "metadata": {},
   "source": [
    "# 2. 本資料中總共兒童課後照顧服務中心有幾間?\n",
    "(兒童課後照顧服務中心)"
   ]
  },
  {
   "cell_type": "code",
   "execution_count": 12,
   "metadata": {},
   "outputs": [
    {
     "name": "stdout",
     "output_type": "stream",
     "text": [
      "本資料中共有786間兒童課後照顧服務中心\n"
     ]
    }
   ],
   "source": [
    "print(f\"本資料中共有{len(df)}間兒童課後照顧服務中心\")"
   ]
  },
  {
   "cell_type": "markdown",
   "metadata": {},
   "source": [
    "# 3. 本資料中哪個縣市最多兒童課後照顧服務中心?\n",
    "(縣市)( 兒童課後照顧服務中心)"
   ]
  },
  {
   "cell_type": "code",
   "execution_count": 22,
   "metadata": {},
   "outputs": [
    {
     "data": {
      "text/plain": [
       "縣市    高雄市\n",
       "數量    251\n",
       "dtype: object"
      ]
     },
     "execution_count": 22,
     "metadata": {},
     "output_type": "execute_result"
    }
   ],
   "source": [
    "df.groupby('縣市', sort=False)['名稱'].count().reset_index(name ='數量').max()"
   ]
  },
  {
   "cell_type": "markdown",
   "metadata": {},
   "source": [
    "# 4. 本資料中哪個縣市最少兒童課後照顧服務中心?\n",
    "(縣市)( 兒童課後照顧服務中心)"
   ]
  },
  {
   "cell_type": "code",
   "execution_count": 23,
   "metadata": {},
   "outputs": [
    {
     "data": {
      "text/plain": [
       "縣市    南投縣\n",
       "數量      1\n",
       "dtype: object"
      ]
     },
     "execution_count": 23,
     "metadata": {},
     "output_type": "execute_result"
    }
   ],
   "source": [
    "df.groupby('縣市', sort=False)['名稱'].count().reset_index(name ='數量').min()"
   ]
  },
  {
   "cell_type": "markdown",
   "metadata": {},
   "source": [
    "# 5.台北市和其他縣市的兒童課後照顧服務中心比例為何\n",
    "(台北市課後照顧服務中心)(其他縣市課後照顧服務中心)"
   ]
  },
  {
   "cell_type": "code",
   "execution_count": 37,
   "metadata": {},
   "outputs": [
    {
     "name": "stdout",
     "output_type": "stream",
     "text": [
      "本資料中台北市和其他縣市的兒童課後照顧服務中心比例為134:652\n"
     ]
    },
    {
     "data": {
      "image/png": "[encoded data removed]",
      "text/plain": [
       "<Figure size 432x288 with 1 Axes>"
      ]
     },
     "metadata": {},
     "output_type": "display_data"
    }
   ],
   "source": [
    "taipei = 0\n",
    "others = 0\n",
    "df1 = df.groupby('縣市', sort=False)['名稱'].count().reset_index(name ='數量')\n",
    "for index, row in df1.iterrows():\n",
    "    if row['縣市'] == '臺北市':\n",
    "        taipei = row['數量']\n",
    "    else:\n",
    "        others += row['數量']\n",
    "df2 = pd.DataFrame({'count': [taipei , others]}, index=['台北市', '其他縣市'])\n",
    "df2.plot.pie(y='count')\n",
    "\n",
    "print(f\"本資料中台北市和其他縣市的兒童課後照顧服務中心比例為{taipei}:{others}\")\n"
   ]
  },
  {
   "cell_type": "markdown",
   "metadata": {},
   "source": [
    "# 6.北中南東的兒童課後照顧服務中心比例為何\n",
    "(北部課後照顧服務中心)(中部課後照顧服務中心)(南部課後照顧服務中心)(東部課後照顧服務中心)"
   ]
  },
  {
   "cell_type": "code",
   "execution_count": 33,
   "metadata": {},
   "outputs": [
    {
     "name": "stdout",
     "output_type": "stream",
     "text": [
      "北中南東的兒童課後照顧服務中心比例為何，北部:433間，中部:36間，南部312間，東部:1間\n"
     ]
    }
   ],
   "source": [
    "count_list = {'北部':0, '中部':0, '南部':0, '東部':0, '外島': 0}\n",
    "city_to_area = {\n",
    "    '臺北市':'北部', \n",
    "    '新北市':'北部', \n",
    "    '基隆市':'北部', \n",
    "    '新竹市':'北部', \n",
    "    '桃園市':'北部', \n",
    "    '新竹縣':'北部', \n",
    "    '宜蘭縣':'北部', \n",
    "    '臺中市':'中部', \n",
    "    '苗栗縣':'中部', \n",
    "    '彰化縣':'中部', \n",
    "    '南投縣':'中部', \n",
    "    '雲林縣':'中部', \n",
    "    '高雄市':'南部', \n",
    "    '臺南市':'南部', \n",
    "    '嘉義市':'南部', \n",
    "    '嘉義縣':'南部', \n",
    "    '屏東縣':'南部', \n",
    "    '澎湖縣':'南部', \n",
    "    '花蓮縣':'東部', \n",
    "    '臺東縣':'東部', \n",
    "    '金門縣':'外島',\n",
    "}\n",
    "for index, row in df.iterrows():\n",
    "    count_list[city_to_area[row['縣市']]] += 1\n",
    "\n",
    "print(f\"北中南東的兒童課後照顧服務中心比例為何，北部:{count_list['北部']}間，中部:{count_list['中部']}間，南部{count_list['南部']}間，東部:{count_list['東部']}間\")"
   ]
  },
  {
   "cell_type": "markdown",
   "metadata": {},
   "source": [
    "# 7. 台北市在105年以前和以後到111年的兒童課後照顧服務中心各有多少?\n",
    "(台北市在105年以前課後照顧服務中心數量)( 台北市在105年以後課後照顧服務中心數量)"
   ]
  },
  {
   "cell_type": "code",
   "execution_count": 35,
   "metadata": {},
   "outputs": [
    {
     "name": "stdout",
     "output_type": "stream",
     "text": [
      "在105年以前，台北市共有106間兒童課後照顧服務中心\n"
     ]
    }
   ],
   "source": [
    "before_105 = 0\n",
    "after_105 = 0\n",
    "for index, row in df.iterrows():\n",
    "    if row['縣市']== '臺北市':\n",
    "        if int(row['立案時間'].split('/')[0]) < 105:\n",
    "            before_105 += 1\n",
    "        else:\n",
    "            after_105 += 1\n",
    "\n",
    "print(f\"在105年以前，台北市共有{before_105}間兒童課後照顧服務中心，105年以後有{after_105}間兒童課後照顧服務中心\")"
   ]
  },
  {
   "cell_type": "markdown",
   "metadata": {},
   "source": [
    "# 8.高雄市在105年以前和以後到111年的兒童課後照顧服務中心各有多少?\n",
    "(高雄市在105年以前課後照顧服務中心數量)(高雄市在105年以後課後照顧服務中心數量)"
   ]
  },
  {
   "cell_type": "code",
   "execution_count": 36,
   "metadata": {},
   "outputs": [
    {
     "name": "stdout",
     "output_type": "stream",
     "text": [
      "在105年以前，高雄市共有218間兒童課後照顧服務中心，105年以後有33間兒童課後照顧服務中心\n"
     ]
    }
   ],
   "source": [
    "before_105 = 0\n",
    "after_105 = 0\n",
    "for index, row in df.iterrows():\n",
    "    if row['縣市']== '高雄市':\n",
    "        if int(row['立案時間'].split('/')[0]) < 105:\n",
    "            before_105 += 1\n",
    "        else:\n",
    "            after_105 += 1\n",
    "\n",
    "print(f\"在105年以前，高雄市共有{before_105}間兒童課後照顧服務中心，105年以後有{after_105}間兒童課後照顧服務中心\")"
   ]
  },
  {
   "cell_type": "markdown",
   "metadata": {},
   "source": [
    "# 9.台中市在105年以前和以後到111年的兒童課後照顧服務中心各有多少?\n",
    "(台中市在105年以前課後照顧服務中心數量)( 台中市在105年以後課後照顧服務中心數量)"
   ]
  },
  {
   "cell_type": "code",
   "execution_count": null,
   "metadata": {},
   "outputs": [],
   "source": [
    "before_105 = 0\n",
    "after_105 = 0\n",
    "for index, row in df.iterrows():\n",
    "    if row['縣市']== '臺中市':\n",
    "        if int(row['立案時間'].split('/')[0]) < 105:\n",
    "            before_105 += 1\n",
    "        else:\n",
    "            after_105 += 1\n",
    "\n",
    "print(f\"在105年以前，台中市共有{before_105}間兒童課後照顧服務中心，105年以後有{after_105}間兒童課後照顧服務中心\")"
   ]
  },
  {
   "cell_type": "markdown",
   "metadata": {},
   "source": [
    "# 10.宜蘭市在105年以前和以後到111年的兒童課後照顧服務中心各有多少?\n",
    "(宜蘭市在105年以前課後照顧服務中心數量)( 宜蘭市在105年以後課後照顧服務中心數量)"
   ]
  },
  {
   "cell_type": "code",
   "execution_count": null,
   "metadata": {},
   "outputs": [],
   "source": [
    "before_105 = 0\n",
    "after_105 = 0\n",
    "for index, row in df.iterrows():\n",
    "    if row['縣市']== '宜蘭市':\n",
    "        if int(row['立案時間'].split('/')[0]) < 105:\n",
    "            before_105 += 1\n",
    "        else:\n",
    "            after_105 += 1\n",
    "\n",
    "print(f\"在105年以前，宜蘭市共有{before_105}間兒童課後照顧服務中心，105年以後有{after_105}間兒童課後照顧服務中心\")"
   ]
  }
 ],
 "metadata": {
  "kernelspec": {
   "display_name": "Python 3",
   "language": "python",
   "name": "python3"
  },
  "language_info": {
   "codemirror_mode": {
    "name": "ipython",
    "version": 3
   },
   "file_extension": ".py",
   "mimetype": "text/x-python",
   "name": "python",
   "nbconvert_exporter": "python",
   "pygments_lexer": "ipython3",
   "version": "3.9.6"
  }
 },
 "nbformat": 4,
 "nbformat_minor": 2
}
